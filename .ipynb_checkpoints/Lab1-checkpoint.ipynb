{
 "cells": [
  {
   "cell_type": "code",
   "execution_count": 1,
   "metadata": {
    "collapsed": false
   },
   "outputs": [
    {
     "data": {
      "text/html": [
       "<div>\n",
       "<table border=\"1\" class=\"dataframe\">\n",
       "  <thead>\n",
       "    <tr style=\"text-align: right;\">\n",
       "      <th></th>\n",
       "      <th>date</th>\n",
       "      <th>actual_mean_temp</th>\n",
       "      <th>actual_min_temp</th>\n",
       "      <th>actual_max_temp</th>\n",
       "      <th>average_min_temp</th>\n",
       "      <th>average_max_temp</th>\n",
       "      <th>record_min_temp</th>\n",
       "      <th>record_max_temp</th>\n",
       "      <th>record_min_temp_year</th>\n",
       "      <th>record_max_temp_year</th>\n",
       "      <th>actual_precipitation</th>\n",
       "      <th>average_precipitation</th>\n",
       "      <th>record_precipitation</th>\n",
       "      <th>city</th>\n",
       "    </tr>\n",
       "  </thead>\n",
       "  <tbody>\n",
       "    <tr>\n",
       "      <th>0</th>\n",
       "      <td>7/1/2014</td>\n",
       "      <td>84</td>\n",
       "      <td>74</td>\n",
       "      <td>94</td>\n",
       "      <td>75</td>\n",
       "      <td>93</td>\n",
       "      <td>66</td>\n",
       "      <td>102</td>\n",
       "      <td>1985.0</td>\n",
       "      <td>1980.0</td>\n",
       "      <td>0.00</td>\n",
       "      <td>0.16</td>\n",
       "      <td>1.40</td>\n",
       "      <td>houston</td>\n",
       "    </tr>\n",
       "    <tr>\n",
       "      <th>1</th>\n",
       "      <td>7/2/2014</td>\n",
       "      <td>84</td>\n",
       "      <td>74</td>\n",
       "      <td>94</td>\n",
       "      <td>75</td>\n",
       "      <td>93</td>\n",
       "      <td>66</td>\n",
       "      <td>104</td>\n",
       "      <td>1924.0</td>\n",
       "      <td>1894.0</td>\n",
       "      <td>0.00</td>\n",
       "      <td>0.16</td>\n",
       "      <td>5.43</td>\n",
       "      <td>houston</td>\n",
       "    </tr>\n",
       "    <tr>\n",
       "      <th>2</th>\n",
       "      <td>7/3/2014</td>\n",
       "      <td>84</td>\n",
       "      <td>73</td>\n",
       "      <td>94</td>\n",
       "      <td>75</td>\n",
       "      <td>93</td>\n",
       "      <td>66</td>\n",
       "      <td>100</td>\n",
       "      <td>1977.0</td>\n",
       "      <td>1980.0</td>\n",
       "      <td>0.00</td>\n",
       "      <td>0.16</td>\n",
       "      <td>1.29</td>\n",
       "      <td>houston</td>\n",
       "    </tr>\n",
       "    <tr>\n",
       "      <th>3</th>\n",
       "      <td>7/4/2014</td>\n",
       "      <td>82</td>\n",
       "      <td>72</td>\n",
       "      <td>91</td>\n",
       "      <td>75</td>\n",
       "      <td>93</td>\n",
       "      <td>66</td>\n",
       "      <td>101</td>\n",
       "      <td>1910.0</td>\n",
       "      <td>2009.0</td>\n",
       "      <td>0.48</td>\n",
       "      <td>0.15</td>\n",
       "      <td>3.49</td>\n",
       "      <td>houston</td>\n",
       "    </tr>\n",
       "    <tr>\n",
       "      <th>4</th>\n",
       "      <td>7/5/2014</td>\n",
       "      <td>82</td>\n",
       "      <td>73</td>\n",
       "      <td>90</td>\n",
       "      <td>75</td>\n",
       "      <td>93</td>\n",
       "      <td>66</td>\n",
       "      <td>102</td>\n",
       "      <td>1924.0</td>\n",
       "      <td>2009.0</td>\n",
       "      <td>0.31</td>\n",
       "      <td>0.16</td>\n",
       "      <td>3.04</td>\n",
       "      <td>houston</td>\n",
       "    </tr>\n",
       "  </tbody>\n",
       "</table>\n",
       "</div>"
      ],
      "text/plain": [
       "       date  actual_mean_temp  actual_min_temp  actual_max_temp  \\\n",
       "0  7/1/2014                84               74               94   \n",
       "1  7/2/2014                84               74               94   \n",
       "2  7/3/2014                84               73               94   \n",
       "3  7/4/2014                82               72               91   \n",
       "4  7/5/2014                82               73               90   \n",
       "\n",
       "   average_min_temp  average_max_temp  record_min_temp  record_max_temp  \\\n",
       "0                75                93               66              102   \n",
       "1                75                93               66              104   \n",
       "2                75                93               66              100   \n",
       "3                75                93               66              101   \n",
       "4                75                93               66              102   \n",
       "\n",
       "   record_min_temp_year  record_max_temp_year  actual_precipitation  \\\n",
       "0                1985.0                1980.0                  0.00   \n",
       "1                1924.0                1894.0                  0.00   \n",
       "2                1977.0                1980.0                  0.00   \n",
       "3                1910.0                2009.0                  0.48   \n",
       "4                1924.0                2009.0                  0.31   \n",
       "\n",
       "   average_precipitation  record_precipitation     city  \n",
       "0                   0.16                  1.40  houston  \n",
       "1                   0.16                  5.43  houston  \n",
       "2                   0.16                  1.29  houston  \n",
       "3                   0.15                  3.49  houston  \n",
       "4                   0.16                  3.04  houston  "
      ]
     },
     "execution_count": 1,
     "metadata": {},
     "output_type": "execute_result"
    }
   ],
   "source": [
    "import pandas as pd\n",
    "import numpy as np\n",
    "pd.options.display.max_columns = 999\n",
    "df = pd.read_csv('weatherdata.csv', sep=\",\") # read in the csv file\n",
    "df.head()\n",
    "\n"
   ]
  },
  {
   "cell_type": "code",
   "execution_count": 2,
   "metadata": {
    "collapsed": false
   },
   "outputs": [
    {
     "name": "stdout",
     "output_type": "stream",
     "text": [
      "date                      object\n",
      "actual_mean_temp           int64\n",
      "actual_min_temp            int64\n",
      "actual_max_temp            int64\n",
      "average_min_temp           int64\n",
      "average_max_temp           int64\n",
      "record_min_temp            int64\n",
      "record_max_temp            int64\n",
      "record_min_temp_year     float64\n",
      "record_max_temp_year     float64\n",
      "actual_precipitation     float64\n",
      "average_precipitation    float64\n",
      "record_precipitation     float64\n",
      "city                      object\n",
      "dtype: object\n",
      "===========\n",
      "<class 'pandas.core.frame.DataFrame'>\n",
      "RangeIndex: 1825 entries, 0 to 1824\n",
      "Data columns (total 14 columns):\n",
      "date                     1825 non-null object\n",
      "actual_mean_temp         1825 non-null int64\n",
      "actual_min_temp          1825 non-null int64\n",
      "actual_max_temp          1825 non-null int64\n",
      "average_min_temp         1825 non-null int64\n",
      "average_max_temp         1825 non-null int64\n",
      "record_min_temp          1825 non-null int64\n",
      "record_max_temp          1825 non-null int64\n",
      "record_min_temp_year     1824 non-null float64\n",
      "record_max_temp_year     1824 non-null float64\n",
      "actual_precipitation     1825 non-null float64\n",
      "average_precipitation    1825 non-null float64\n",
      "record_precipitation     1825 non-null float64\n",
      "city                     1825 non-null object\n",
      "dtypes: float64(5), int64(7), object(2)\n",
      "memory usage: 199.7+ KB\n",
      "None\n"
     ]
    }
   ],
   "source": [
    "print(df.dtypes)\n",
    "print('===========')\n",
    "print(df.info())"
   ]
  },
  {
   "cell_type": "code",
   "execution_count": 3,
   "metadata": {
    "collapsed": true
   },
   "outputs": [],
   "source": [
    "# this python magics will allow plot to be embedded into the notebook\n",
    "import matplotlib.pyplot as plt\n",
    "import warnings\n",
    "warnings.simplefilter('ignore', DeprecationWarning)\n",
    "%matplotlib inline \n",
    "# could also say matplotlib notebook here to make things interactive"
   ]
  },
  {
   "cell_type": "code",
   "execution_count": 4,
   "metadata": {
    "collapsed": false
   },
   "outputs": [
    {
     "data": {
      "text/plain": [
       "<matplotlib.text.Text at 0x1ecd5e0cd30>"
      ]
     },
     "execution_count": 4,
     "metadata": {},
     "output_type": "execute_result"
    },
    {
     "data": {
      "image/png": "[encoded data removed]",
      "text/plain": [
       "<matplotlib.figure.Figure at 0x1ecd5832e10>"
      ]
     },
     "metadata": {},
     "output_type": "display_data"
    }
   ],
   "source": [
    "# Start by just plotting what we previsously grouped!\n",
    "plt.style.use('ggplot')\n",
    "\n",
    "df_grouped = df.groupby(by=['actual_mean_temp','actual_min_temp','actual_max_temp'])\n",
    "plt.title('Actual Temps')"
   ]
  },
  {
   "cell_type": "code",
   "execution_count": null,
   "metadata": {
    "collapsed": false
   },
   "outputs": [],
   "source": [
    "df.plot.hist(stacked=True, bins=20)"
   ]
  },
  {
   "cell_type": "code",
   "execution_count": null,
   "metadata": {
    "collapsed": true
   },
   "outputs": [],
   "source": []
  },
  {
   "cell_type": "code",
   "execution_count": null,
   "metadata": {
    "collapsed": true
   },
   "outputs": [],
   "source": []
  }
 ],
 "metadata": {
  "anaconda-cloud": {},
  "kernelspec": {
   "display_name": "Python [conda root]",
   "language": "python",
   "name": "conda-root-py"
  },
  "language_info": {
   "codemirror_mode": {
    "name": "ipython",
    "version": 3
   },
   "file_extension": ".py",
   "mimetype": "text/x-python",
   "name": "python",
   "nbconvert_exporter": "python",
   "pygments_lexer": "ipython3",
   "version": "3.5.2"
  }
 },
 "nbformat": 4,
 "nbformat_minor": 1
}
